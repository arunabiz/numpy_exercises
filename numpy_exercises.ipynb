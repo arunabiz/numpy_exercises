{
  "nbformat": 4,
  "nbformat_minor": 0,
  "metadata": {
    "colab": {
      "provenance": [],
      "authorship_tag": "ABX9TyPb27osHV2uEa/BYCyjrVDL",
      "include_colab_link": true
    },
    "kernelspec": {
      "name": "python3",
      "display_name": "Python 3"
    },
    "language_info": {
      "name": "python"
    }
  },
  "cells": [
    {
      "cell_type": "markdown",
      "metadata": {
        "id": "view-in-github",
        "colab_type": "text"
      },
      "source": [
        "<a href=\"https://colab.research.google.com/github/arunabiz/numpy_exercises/blob/main/numpy_exercises.ipynb\" target=\"_parent\"><img src=\"https://colab.research.google.com/assets/colab-badge.svg\" alt=\"Open In Colab\"/></a>"
      ]
    },
    {
      "cell_type": "code",
      "source": [
        "import numpy as np"
      ],
      "metadata": {
        "id": "m-eFykKaAhQM"
      },
      "execution_count": 1,
      "outputs": []
    },
    {
      "cell_type": "code",
      "source": [
        "import time"
      ],
      "metadata": {
        "id": "ueCiexbofS07"
      },
      "execution_count": 63,
      "outputs": []
    },
    {
      "cell_type": "markdown",
      "source": [
        "**1. How to create a list in Python?**"
      ],
      "metadata": {
        "id": "X4aq1_QFfa2B"
      }
    },
    {
      "cell_type": "code",
      "source": [
        "a = [1,2,3,4]\n",
        "b = list([1,2,3,4])\n",
        "a==b"
      ],
      "metadata": {
        "colab": {
          "base_uri": "https://localhost:8080/"
        },
        "id": "c_zMkSuMfW4-",
        "outputId": "9983485e-86a6-4276-84ad-4283a5cae0f2"
      },
      "execution_count": 6,
      "outputs": [
        {
          "output_type": "execute_result",
          "data": {
            "text/plain": [
              "True"
            ]
          },
          "metadata": {},
          "execution_count": 6
        }
      ]
    },
    {
      "cell_type": "markdown",
      "source": [
        "**2. What is the difference between a list and an array in Python?**\n",
        "\n",
        "Lists can contain diferrent data types of elements while an array can only contain the same data type of elements\n",
        "\n",
        "An array is the best for numarical calculations and can be converted into a Numpy array."
      ],
      "metadata": {
        "id": "1u-M5r7Xgesj"
      }
    },
    {
      "cell_type": "markdown",
      "source": [
        "**3. How to convert a list into a numpy array?**"
      ],
      "metadata": {
        "id": "DeYaBSgQhBii"
      }
    },
    {
      "cell_type": "code",
      "source": [
        "c = np.array([1,2,3,4])\n",
        "type(c)"
      ],
      "metadata": {
        "colab": {
          "base_uri": "https://localhost:8080/"
        },
        "id": "kiLTPxC5fqf_",
        "outputId": "67411c50-bc5a-485d-a8ae-85900fc39e1d"
      },
      "execution_count": 10,
      "outputs": [
        {
          "output_type": "execute_result",
          "data": {
            "text/plain": [
              "numpy.ndarray"
            ]
          },
          "metadata": {},
          "execution_count": 10
        }
      ]
    },
    {
      "cell_type": "markdown",
      "source": [
        "**4. How to perform arithmetic operations on numpy arrays?**"
      ],
      "metadata": {
        "id": "s8ZchDgOhplQ"
      }
    },
    {
      "cell_type": "code",
      "source": [
        "d = c+1\n",
        "print(d)"
      ],
      "metadata": {
        "colab": {
          "base_uri": "https://localhost:8080/"
        },
        "id": "FPahkgGKhJ2v",
        "outputId": "4e2b51f5-c0d0-454f-812e-75a95a2254ba"
      },
      "execution_count": 11,
      "outputs": [
        {
          "output_type": "stream",
          "name": "stdout",
          "text": [
            "[2 3 4 5]\n"
          ]
        }
      ]
    },
    {
      "cell_type": "markdown",
      "source": [
        "**5. How to calculate the mean, median, and standard deviation of a numpy array?**"
      ],
      "metadata": {
        "id": "jH1W8zJEiCqa"
      }
    },
    {
      "cell_type": "code",
      "source": [
        "mean = np.mean(c)\n",
        "print(\"Mean:\", mean)\n",
        "\n",
        "median = np.median(c)\n",
        "print(\"Median:\", median)\n",
        "\n",
        "std = np.std(c)\n",
        "print(\"Standard Deviation:\", std)"
      ],
      "metadata": {
        "colab": {
          "base_uri": "https://localhost:8080/"
        },
        "id": "EJYF9Dnhh2uX",
        "outputId": "17451768-afd6-4fd1-9214-8534cde6b088"
      },
      "execution_count": 18,
      "outputs": [
        {
          "output_type": "stream",
          "name": "stdout",
          "text": [
            "Mean: 2.5\n",
            "Median: 2.5\n",
            "Standard Deviation: 1.118033988749895\n"
          ]
        }
      ]
    },
    {
      "cell_type": "markdown",
      "source": [
        "**6. How to perform matrix operations in numpy, such as transpose, dot product, and inverse?**"
      ],
      "metadata": {
        "id": "z7IjUpeyjHFK"
      }
    },
    {
      "cell_type": "code",
      "source": [
        "d = np.array([[1,2,3,4],[5,6,7,8]])\n",
        "print(d)"
      ],
      "metadata": {
        "colab": {
          "base_uri": "https://localhost:8080/"
        },
        "id": "3yA0LRa6iNu2",
        "outputId": "0963684d-a773-403e-c7de-9c491c538b6e"
      },
      "execution_count": 24,
      "outputs": [
        {
          "output_type": "stream",
          "name": "stdout",
          "text": [
            "[[1 2 3 4]\n",
            " [5 6 7 8]]\n"
          ]
        }
      ]
    },
    {
      "cell_type": "code",
      "source": [
        "transpose = d.T\n",
        "print(transpose)"
      ],
      "metadata": {
        "colab": {
          "base_uri": "https://localhost:8080/"
        },
        "id": "VbRiQwIokZ_i",
        "outputId": "c3181bf5-b403-4022-cdf4-a4a004233936"
      },
      "execution_count": 25,
      "outputs": [
        {
          "output_type": "stream",
          "name": "stdout",
          "text": [
            "[[1 5]\n",
            " [2 6]\n",
            " [3 7]\n",
            " [4 8]]\n"
          ]
        }
      ]
    },
    {
      "cell_type": "code",
      "source": [
        "e = np.array([[1,2],[3,4],[5,6],[7,8]])\n",
        "print(e)"
      ],
      "metadata": {
        "colab": {
          "base_uri": "https://localhost:8080/"
        },
        "id": "_hC0lnH0jseA",
        "outputId": "6731bff1-8a59-4212-9727-a12e7b4d7fe5"
      },
      "execution_count": 32,
      "outputs": [
        {
          "output_type": "stream",
          "name": "stdout",
          "text": [
            "[[1 2]\n",
            " [3 4]\n",
            " [5 6]\n",
            " [7 8]]\n"
          ]
        }
      ]
    },
    {
      "cell_type": "code",
      "source": [
        "dot_product = np.dot(d, e)\n",
        "print(dot_product)\n"
      ],
      "metadata": {
        "colab": {
          "base_uri": "https://localhost:8080/"
        },
        "id": "eqCezC4vk5Fy",
        "outputId": "2f6f3464-4801-4b02-853a-3ad5515049e8"
      },
      "execution_count": 33,
      "outputs": [
        {
          "output_type": "stream",
          "name": "stdout",
          "text": [
            "[[ 50  60]\n",
            " [114 140]]\n"
          ]
        }
      ]
    },
    {
      "cell_type": "code",
      "source": [
        "f = np.array([[1, 2], [3, 4]])\n",
        "print(f)\n",
        "inv = np.linalg.inv(f)\n",
        "print(inv)"
      ],
      "metadata": {
        "colab": {
          "base_uri": "https://localhost:8080/"
        },
        "id": "c_G5hDoGj00p",
        "outputId": "9bb2726e-1632-405a-878e-36cd25a70725"
      },
      "execution_count": 45,
      "outputs": [
        {
          "output_type": "stream",
          "name": "stdout",
          "text": [
            "[[1 2]\n",
            " [3 4]]\n",
            "[[-2.   1. ]\n",
            " [ 1.5 -0.5]]\n"
          ]
        }
      ]
    },
    {
      "cell_type": "markdown",
      "source": [
        "**7. How to select elements from a numpy array based on conditions?**"
      ],
      "metadata": {
        "id": "o_ocYWJgnYta"
      }
    },
    {
      "cell_type": "code",
      "source": [
        "indices = np.where(e > 5)\n",
        "selected = e[indices]\n",
        "print(selected)"
      ],
      "metadata": {
        "colab": {
          "base_uri": "https://localhost:8080/"
        },
        "id": "MAfE8xMmj2xe",
        "outputId": "f8cc17ad-2c18-449c-9de8-bb7534896d6c"
      },
      "execution_count": 49,
      "outputs": [
        {
          "output_type": "stream",
          "name": "stdout",
          "text": [
            "[6 7 8]\n"
          ]
        }
      ]
    },
    {
      "cell_type": "markdown",
      "source": [
        "**8. How to perform element-wise operations on numpy arrays?**"
      ],
      "metadata": {
        "id": "vVj6oBqX5MR6"
      }
    },
    {
      "cell_type": "code",
      "source": [
        "g = np.array([1,2,3,4,5,6])\n",
        "h = np.array([6,7,8,9,3,7])\n",
        "\n",
        "Add = g+h\n",
        "print(Add)\n",
        "\n",
        "Substract = g-h\n",
        "print(Substract)"
      ],
      "metadata": {
        "colab": {
          "base_uri": "https://localhost:8080/"
        },
        "id": "4K2FZMos4vUV",
        "outputId": "cf2e90dc-1cda-447a-f61f-1f2f797a6374"
      },
      "execution_count": 57,
      "outputs": [
        {
          "output_type": "stream",
          "name": "stdout",
          "text": [
            "[ 7  9 11 13  8 13]\n",
            "[-5 -5 -5 -5  2 -1]\n"
          ]
        }
      ]
    },
    {
      "cell_type": "markdown",
      "source": [
        "**9. How to reshape a numpy array?**"
      ],
      "metadata": {
        "id": "cIUxt3kL6NZ3"
      }
    },
    {
      "cell_type": "code",
      "source": [
        "i = h.reshape(2,3)\n",
        "print(i)"
      ],
      "metadata": {
        "colab": {
          "base_uri": "https://localhost:8080/"
        },
        "id": "GPo1PgM155Js",
        "outputId": "0d125b0c-7d79-4ec6-b644-197402ddc94c"
      },
      "execution_count": 61,
      "outputs": [
        {
          "output_type": "stream",
          "name": "stdout",
          "text": [
            "[[6 7 8]\n",
            " [9 3 7]]\n"
          ]
        }
      ]
    },
    {
      "cell_type": "markdown",
      "source": [
        "**10. How to measure the time taken by a numpy operation?**"
      ],
      "metadata": {
        "id": "s_9b9TRG6hEO"
      }
    },
    {
      "cell_type": "code",
      "source": [
        "j = np.random.rand(1000,10000)\n",
        "\n",
        "start = time.time()\n",
        "\n",
        "result = np.mean(j)\n",
        "\n",
        "end = time.time()\n",
        "\n",
        "time_taken = end-start\n",
        "print(\"Time:\", time_taken)"
      ],
      "metadata": {
        "colab": {
          "base_uri": "https://localhost:8080/"
        },
        "id": "o_6C7JuU7OPu",
        "outputId": "5f26242a-beaf-41b4-b7b7-799918493dfa"
      },
      "execution_count": 64,
      "outputs": [
        {
          "output_type": "stream",
          "name": "stdout",
          "text": [
            "Time: 0.008107900619506836\n"
          ]
        }
      ]
    },
    {
      "cell_type": "code",
      "source": [],
      "metadata": {
        "id": "IriwGOyh8UQ7"
      },
      "execution_count": null,
      "outputs": []
    }
  ]
}